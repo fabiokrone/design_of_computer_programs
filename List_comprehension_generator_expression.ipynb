{
 "cells": [
  {
   "cell_type": "markdown",
   "metadata": {},
   "source": [
    "### This Notebook contains resolution of problems presented in the course: Desing of Computer Programs - by Peter Norvig"
   ]
  },
  {
   "cell_type": "markdown",
   "metadata": {},
   "source": [
    "###   Write a function that computes the sum of squares for a list of numbers\n",
    "\n",
    "$ \\sum \\limits_ i   x^2 {i}$      "
   ]
  },
  {
   "cell_type": "code",
   "execution_count": null,
   "metadata": {},
   "outputs": [],
   "source": [
    "def ss(nums):\n",
    "    total = 0\n",
    "    for x in range(nums+1):\n",
    "        total = total + (x**2)\n",
    "    return (total)\n",
    "    \n",
    "    \n",
    "# Using list comprehension    \n",
    "def ss2(nums):\n",
    "    return sum (x ** 2 for x in range (nums+1))\n",
    "\n",
    "#calling the function\n",
    "print(ss(3))    \n",
    "print(ss2(3))    "
   ]
  },
  {
   "cell_type": "markdown",
   "metadata": {},
   "source": [
    "## List comprehensions"
   ]
  },
  {
   "cell_type": "code",
   "execution_count": null,
   "metadata": {},
   "outputs": [],
   "source": [
    "# bad example\n",
    "udacity_tas = ['peter', 'andy', 'sarah', 'sean', 'job', 'gundega']\n",
    "\n",
    "bad_uppercase_tas = []\n",
    "for i in range(len(udacity_tas)):\n",
    "    bad_uppercase_tas.append(udacity_tas[i].upper())\n",
    "    \n",
    "print(bad_uppercase_tas)   \n",
    "\n",
    "     "
   ]
  },
  {
   "cell_type": "markdown",
   "metadata": {},
   "source": [
    "<img src=\"https://www.freecodecamp.org/news/content/images/size/w2000/2021/07/list-comprehension-1.png\">"
   ]
  },
  {
   "cell_type": "code",
   "execution_count": null,
   "metadata": {},
   "outputs": [],
   "source": [
    "\n",
    "# Good example\n",
    "upercase_tas = [name.upper() for name in udacity_tas]\n",
    "for name in upercase_tas:\n",
    "    print(name)\n",
    "        "
   ]
  },
  {
   "cell_type": "code",
   "execution_count": null,
   "metadata": {},
   "outputs": [],
   "source": [
    "ta_data = [('Peter', 'USA', 'CS262'), ('Alex', 'BRA', 'CS262'), \n",
    "           ('John', 'USA', 'CS262'),('Andy', 'RUS', 'CS212'),\n",
    "           ('Sarah', 'England', 'CS355'), ('Fabio', 'Brasil', 'CS362')]\n",
    "\n",
    "ta_facts = [name + 'lives in ' + country + ' and is the TA for ' + course for name, \n",
    "            country, course in ta_data]\n",
    "\n",
    "for row in ta_facts:\n",
    "    print(row)\n",
    "\n",
    "    \n"
   ]
  },
  {
   "cell_type": "code",
   "execution_count": null,
   "metadata": {},
   "outputs": [],
   "source": [
    "# Now I want just the facts for students who live in USA\n",
    "ta_facts_usa = [name + 'lives in ' + country + ' and is the TA for ' + course \n",
    "                for name, country, course in ta_data if country == 'USA' ]\n",
    "\n",
    "for row in ta_facts_usa:\n",
    "    print(row)"
   ]
  },
  {
   "cell_type": "code",
   "execution_count": null,
   "metadata": {},
   "outputs": [],
   "source": [
    "# Now list all the TAs who are teaching 300-level course\n",
    "# Should be Sarah and Fabio\n",
    "\n",
    "# Find returns -1 when it doesn't  find what you're asking for\n",
    "ta_300 = [name + ' is TA for ' + course for name, country,\n",
    "          course in ta_data if course.find('CS3') != -1]\n",
    "\n",
    "for row in ta_300:\n",
    "    print(row)\n",
    "\n"
   ]
  },
  {
   "cell_type": "markdown",
   "metadata": {},
   "source": [
    "## Generator Expressions"
   ]
  },
  {
   "cell_type": "markdown",
   "metadata": {},
   "source": [
    "Now we introduce an important type of object called a generator, which allows us to generate arbitrarily-many items in a series, without having to store them all in memory at once."
   ]
  },
  {
   "cell_type": "markdown",
   "metadata": {},
   "source": [
    "There are two main differences between <b>List Comprehension</b> and <b>Generator Expressions</b> <br>\n",
    "* The generator expressions uses parentheses instead of square brackets\n",
    "* The computation doesn't get done all at once"
   ]
  },
  {
   "cell_type": "code",
   "execution_count": null,
   "metadata": {},
   "outputs": [],
   "source": [
    "#Function sq for square of x.\n",
    "def sq(x): print('sq called', x); return x * x\n",
    "\n",
    "g = (sq(x) for x in range(10) if x% 2 == 0)\n",
    "\n",
    "print(g)\n",
    "next(g)\n",
    "next(g)\n",
    "next(g)\n",
    "next(g)\n",
    "next(g)\n",
    "\n"
   ]
  },
  {
   "cell_type": "code",
   "execution_count": null,
   "metadata": {},
   "outputs": [],
   "source": [
    "#  The protocol for a for loop arranges to call the generator each time,\n",
    "#  to call the next function, and to deal with the StopIteratiom exception\n",
    "#  and catch that.\n",
    "\n",
    "def sq(x): print('sq called', x); return x * x\n",
    "\n",
    "for x2 in (sq(x) for x in range(10) if x % 2 == 0): pass"
   ]
  },
  {
   "cell_type": "code",
   "execution_count": null,
   "metadata": {},
   "outputs": [],
   "source": [
    "#  Converting the results into a list\n",
    "\n",
    "def sq(x): print('sq called', x); return x * x\n",
    "\n",
    "list((sq(x) for x in range(10) if x%2 == 0))"
   ]
  },
  {
   "cell_type": "markdown",
   "metadata": {},
   "source": [
    "## Generator Functions"
   ]
  },
  {
   "cell_type": "code",
   "execution_count": null,
   "metadata": {},
   "outputs": [],
   "source": [
    "# ------------\n",
    "# GENERATOR FUNTION\n",
    "#\n",
    "\n",
    "def ints(start, end):\n",
    "    i = start\n",
    "    while i <= end:\n",
    "        yield i\n",
    "        i = i + 1\n",
    "\n",
    "l = ints(0,8)\n",
    "for i in l: print(i)\n",
    "    \n",
    "    \n",
    "    "
   ]
  },
  {
   "cell_type": "code",
   "execution_count": null,
   "metadata": {},
   "outputs": [],
   "source": [
    "# ------------\n",
    "# GENERATOR FUNTION\n",
    "#\n",
    "# Define a function, all_ints(), that generates the \n",
    "# integers in the order 0, +1, -1, +2, -2, ...\n",
    "# Infinite loop\n",
    "\n",
    "def all_ints():\n",
    "    \"Generate integers in the order 0, +1, -1, +2, -2, +3, ...\"\n",
    "    yield 0\n",
    "    i = 1\n",
    "    while True:\n",
    "        yield +i\n",
    "        yield -i\n",
    "        i = i + 1\n",
    "        \n",
    "print(all_ints())\n",
    "\n",
    "x = all_ints()\n",
    "#for i in x: print(i) #runs infinite"
   ]
  },
  {
   "cell_type": "markdown",
   "metadata": {},
   "source": [
    "## Cryptarithmetic or alphametics"
   ]
  },
  {
   "cell_type": "code",
   "execution_count": null,
   "metadata": {},
   "outputs": [],
   "source": [
    "# -------------\n",
    "# User Instructions\n",
    "#\n",
    "# Write a function, solve(formula) that solves cryptarithmetic puzzles.\n",
    "# The input should be a formula like 'ODD + ODD == EVEN', and the \n",
    "# output should be a string with the digits filled in, or None if the\n",
    "# problem is not solvable.\n",
    "#\n",
    "\n",
    "\n",
    "import string, re, time, itertools, cProfile\n",
    "\n",
    "def solve(formula):\n",
    "    \"\"\"Given a formula like 'ODD + ODD == EVEN', fill in digits to solve it.\n",
    "    Input formula is a string; output is a digit-filled-in string or None.\"\"\"\n",
    "    for f in fill_in(formula):\n",
    "        if valid(f):\n",
    "            print(f)\n",
    "    \n",
    "    \n",
    "    \n",
    "def fill_in(formula):\n",
    "    \"Generate all possible fillings-in of letters in formula with digits.\"\n",
    "    letters = ''.join(set(re.findall('[A-Z]', formula)))\n",
    "    for digits in itertools.permutations('1234567890', len(letters)):\n",
    "        table = str.maketrans(letters, ''.join(digits))\n",
    "        yield formula.translate(table)\n",
    "        \n",
    "    \n",
    "    \n",
    "def valid(f):\n",
    "    \"\"\"Formula f is valid if and only if it has no \n",
    "    numbers with leading zero, and evals true.\"\"\"\n",
    "    try: \n",
    "        return not re.search(r'\\b0[0-9]', f) and eval(f) is True\n",
    "    except ArithmeticError:\n",
    "        return False    \n",
    "    \n",
    "    \n",
    "    \n",
    "examples2 = \"\"\"\n",
    "sum(range(POP)) == BOBO\n",
    "ONE < TWO < TRHEE\n",
    "RAMN == R**3 + RM**3 == N**3 + RX**3\n",
    "GLITTER is not GOLD\n",
    "A**N + B**N == C**N and N > 1\n",
    "A**N + B**N == C**N and N > 2\n",
    "ATOM**0.5 == A + TO + M\n",
    "A**2 + BE**2 == BY**2\n",
    "GLITTER != GOLD\n",
    "PLUTO not in set([PLANESTS])\n",
    "\"\"\".splitlines()    \n",
    "    \n",
    "examples = \"\"\"TWO + TWO == FOUR\n",
    "A**2 + B**2 == C**2\n",
    "ONE < TWO < TRHEE\n",
    "ODD + ODD == EVEN\n",
    "X / X == X\n",
    "\"\"\".splitlines()\n",
    "\n",
    "\n",
    "def timedcall(fn, *args):\n",
    "    \"Call function with args, return the time in seconds and result\"\n",
    "    t0 = time.process_time()\n",
    "    result = fn(*args)\n",
    "    t1 = time.process_time()\n",
    "    return t1-t0, result\n",
    "\n",
    "def faster_solve(formula):\n",
    "    \"\"\"Given a formula like 'ODD + ODD == EVEN', fill in digits\n",
    "    to solve it. Input formula is a string; output is a digit-filled-in string or None.\n",
    "    This version precompiles the formula; only one eval per formula.\"\"\"\n",
    "    f, letters = compile_formula(formula)\n",
    "    for digits in itertools.permutations((1,2,3,4,5,6,7,8,9,0), len(letters)):\n",
    "        try:\n",
    "            if f(*digits) is True:\n",
    "                table = str.maketrans(letters, ''.join(map(str, digits)))\n",
    "                return formula.translate(table)\n",
    "        except ArithmeticError:\n",
    "            pass\n",
    "        \n",
    "        \n",
    "def compile_formula(formula, verbose=False):\n",
    "    \"\"\"Compile formula into a funcion. Also return letters found, as a str,\n",
    "    in same order as parms of function. For Example, 'YOU == ME**2' returns\n",
    "    (lambda Y, M, E, U, O): (U+10*0+100*Y) == (E+10*M)**2), 'YMEUD' \"\"\"\n",
    "    letters = ''.join(set(re.findall('[A-Z]',formula)))\n",
    "    parms = ', '.join(letters)\n",
    "    tokens = map(compile_word, re.split('([A-Z]+)', formula))\n",
    "    body = ''.join(tokens)\n",
    "    f = 'lambda %s: %s' % (parms, body)\n",
    "    if verbose: print(f)\n",
    "        return eval(f), letters\n",
    "    \n",
    "\n",
    "def test():\n",
    "    t0 = time.process_time()\n",
    "    for example in examples:\n",
    "        print(); print( 13*' ', example)\n",
    "        print ('%6.4f sec: %s  ' % timedcall(solve, example))\n",
    "    print('%6.4f total elapsed time.'% (time.process_time()-t0))    \n",
    "    \n",
    "    \n",
    "test()    \n",
    "#cProfile.run('test')  \n",
    "cProfile.run('re.compile(\"test\")')\n",
    "    \n",
    "    "
   ]
  },
  {
   "cell_type": "code",
   "execution_count": null,
   "metadata": {},
   "outputs": [],
   "source": [
    "# --------------\n",
    "# User Instructions\n",
    "#\n",
    "# Write a function, compile_word(word), that compiles a word\n",
    "# of UPPERCASE letters as numeric digits. For example:\n",
    "# compile_word('YOU') => '(1*U + 10*O +100*Y)' \n",
    "# Non-uppercase words should remain unchaged.\n",
    "\n",
    "def compile_word(word):\n",
    "    \"\"\"Compile a word of uppercase letters as numeric digits.\n",
    "    E.g., compile_word('YOU') => '(1*U+10*O+100*Y)'\n",
    "    Non-uppercase words unchanged: compile_word('+') => '+'\"\"\"\n",
    "    if word.isupper():\n",
    "        terms = [('%s*%s' % (10**i, d)) for (i, d) in enumerate(word[::-1])]\n",
    "        return '(' + '+'.join(terms) +')'\n",
    "    else:\n",
    "        return word\n",
    "        "
   ]
  },
  {
   "cell_type": "code",
   "execution_count": null,
   "metadata": {},
   "outputs": [],
   "source": []
  },
  {
   "cell_type": "code",
   "execution_count": null,
   "metadata": {},
   "outputs": [],
   "source": []
  },
  {
   "cell_type": "code",
   "execution_count": null,
   "metadata": {},
   "outputs": [],
   "source": []
  },
  {
   "cell_type": "code",
   "execution_count": null,
   "metadata": {},
   "outputs": [],
   "source": []
  }
 ],
 "metadata": {
  "kernelspec": {
   "display_name": "Python 3",
   "language": "python",
   "name": "python3"
  },
  "language_info": {
   "codemirror_mode": {
    "name": "ipython",
    "version": 3
   },
   "file_extension": ".py",
   "mimetype": "text/x-python",
   "name": "python",
   "nbconvert_exporter": "python",
   "pygments_lexer": "ipython3",
   "version": "3.8.5"
  }
 },
 "nbformat": 4,
 "nbformat_minor": 4
}
